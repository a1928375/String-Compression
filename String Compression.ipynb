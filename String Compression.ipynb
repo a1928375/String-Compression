{
 "cells": [
  {
   "cell_type": "markdown",
   "metadata": {},
   "source": [
    "# Mine-1\n",
    "# 較不好，因為有modified original string"
   ]
  },
  {
   "cell_type": "code",
   "execution_count": 7,
   "metadata": {},
   "outputs": [
    {
     "name": "stdout",
     "output_type": "stream",
     "text": [
      "A5B4C4\n",
      "\n",
      "A2B2C2\n",
      "A3B1C2D5\n",
      "16.2 µs ± 3.9 µs per loop (mean ± std. dev. of 7 runs, 100000 loops each)\n"
     ]
    }
   ],
   "source": [
    "def compress(s):\n",
    "\n",
    "    if len(s) == 0:\n",
    "        return \"\"\n",
    "   \n",
    "    i=1\n",
    "    pre = s[0]\n",
    "    result = \"\"\n",
    "    \n",
    "    for ele in s[1:]:\n",
    "        \n",
    "        if ele == pre:\n",
    "            i = i+1\n",
    "                    \n",
    "        else:\n",
    "            result = result + pre + str(i)\n",
    "            pre = s[i]              \n",
    "            s=s[i:]                           # 要modify original string，因為 pre = s[i]\n",
    "                                              # if no s=s[i:]，Ex: AAABCC => B的 i = 1 => pre = s[1] = A\n",
    "                                              # => pre又回到A => wrong\n",
    "            i = 1\n",
    "            \n",
    "    result = result + pre + str(i)\n",
    "    \n",
    "    return result\n",
    "    \n",
    "print (compress('AAAAABBBBCCCC'))\n",
    "\n",
    "print (compress(''))\n",
    "\n",
    "print (compress('AABBCC'))\n",
    "\n",
    "print (compress('AAABCCDDDDD'))\n",
    "\n",
    "%timeit compress('AAAAABBBBCCCCAAAAABBBBCCCCAAAAABBBBCCCCAAAAABBBBCCCCAAAAABBBBCCCC')"
   ]
  },
  {
   "cell_type": "markdown",
   "metadata": {},
   "source": [
    "# Mine-2\n",
    "# 再多設1個variable來計數 => 不需要modify original string"
   ]
  },
  {
   "cell_type": "code",
   "execution_count": 8,
   "metadata": {},
   "outputs": [
    {
     "name": "stdout",
     "output_type": "stream",
     "text": [
      "14.8 µs ± 4.43 µs per loop (mean ± std. dev. of 7 runs, 100000 loops each)\n"
     ]
    }
   ],
   "source": [
    "def compress(s):\n",
    "\n",
    "    if len(s) == 0:\n",
    "        return \"\"\n",
    "   \n",
    "    count = 1\n",
    "    i = 1\n",
    "    pre = s[0]\n",
    "    result = \"\"\n",
    "    \n",
    "    for ele in s[1:]:\n",
    "        \n",
    "        if ele == pre:\n",
    "            count = count + 1                             #count用來計letter的數量\n",
    "            i = i + 1                                     #i用來計ele的數量 (計for loop 到string的哪一個位置)\n",
    "                    \n",
    "        else:\n",
    "            result = result + pre + str(count)\n",
    "            pre = s[i]\n",
    "            count = 1\n",
    "            i = i + 1\n",
    "            \n",
    "    result = result + pre + str(count)    \n",
    "    return result\n",
    "\n",
    "%timeit compress('AAAAABBBBCCCCAAAAABBBBCCCCAAAAABBBBCCCCAAAAABBBBCCCCAAAAABBBBCCCC')"
   ]
  },
  {
   "cell_type": "markdown",
   "metadata": {},
   "source": [
    "# Instructor"
   ]
  },
  {
   "cell_type": "code",
   "execution_count": 9,
   "metadata": {},
   "outputs": [
    {
     "name": "stdout",
     "output_type": "stream",
     "text": [
      "28.7 µs ± 584 ns per loop (mean ± std. dev. of 7 runs, 10000 loops each)\n"
     ]
    }
   ],
   "source": [
    "def compress(s):\n",
    "       \n",
    "    # Begin Run as empty string\n",
    "    r = \"\"\n",
    "    l = len(s)\n",
    "    \n",
    "    # Check for length 0\n",
    "    if l == 0:\n",
    "        return \"\"\n",
    "    \n",
    "    # Check for length 1\n",
    "    if l == 1:\n",
    "        return s + \"1\"\n",
    "    \n",
    "    #Intialize Values\n",
    "    last = s[0]                   #此parameter沒有用到，instructor says that some people will use in some comditions\n",
    "    cnt = 1\n",
    "    i = 1\n",
    "    \n",
    "    while i < l:\n",
    "        \n",
    "        # Check to see if it is the same letter\n",
    "        if s[i] == s[i - 1]: \n",
    "            # Add a count if same as previous\n",
    "            cnt += 1\n",
    "        else:\n",
    "            # Otherwise store the previous data\n",
    "            r = r + s[i - 1] + str(cnt)\n",
    "            cnt = 1\n",
    "            \n",
    "        # Add to index count to terminate while loop\n",
    "        i += 1\n",
    "    \n",
    "    # Put everything back into run\n",
    "    r = r + s[i - 1] + str(cnt)\n",
    "    \n",
    "    return r\n",
    "\n",
    "%timeit compress('AAAAABBBBCCCCAAAAABBBBCCCCAAAAABBBBCCCCAAAAABBBBCCCCAAAAABBBBCCCC')"
   ]
  },
  {
   "cell_type": "markdown",
   "metadata": {},
   "source": [
    "# PS"
   ]
  },
  {
   "cell_type": "code",
   "execution_count": null,
   "metadata": {},
   "outputs": [],
   "source": [
    "# falsely \"compress\" 是指  'AAB' 被compressed成 'A2B1' => compressed前是3 digits，compressed後是4 digits\n",
    "# => falsely \"compress\""
   ]
  }
 ],
 "metadata": {
  "kernelspec": {
   "display_name": "Python 3",
   "language": "python",
   "name": "python3"
  },
  "language_info": {
   "codemirror_mode": {
    "name": "ipython",
    "version": 3
   },
   "file_extension": ".py",
   "mimetype": "text/x-python",
   "name": "python",
   "nbconvert_exporter": "python",
   "pygments_lexer": "ipython3",
   "version": "3.7.3"
  }
 },
 "nbformat": 4,
 "nbformat_minor": 2
}
